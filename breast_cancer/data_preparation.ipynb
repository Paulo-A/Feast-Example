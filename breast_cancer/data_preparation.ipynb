{
 "cells": [
  {
   "cell_type": "code",
   "execution_count": 33,
   "metadata": {},
   "outputs": [],
   "source": [
    "# Importing dependencies\n",
    "from sklearn import datasets\n",
    "import pandas as pd\n",
    "from pathlib import Path\n",
    "\n"
   ]
  },
  {
   "cell_type": "code",
   "execution_count": 34,
   "metadata": {},
   "outputs": [],
   "source": [
    "# Loading a toy dataset into a DataFrame\n",
    "data = datasets.load_breast_cancer()\n",
    "data_df = pd.DataFrame(data=data.data, columns=data.feature_names)"
   ]
  },
  {
   "cell_type": "code",
   "execution_count": 35,
   "metadata": {},
   "outputs": [],
   "source": [
    "# Splitting the dataset into arbitrary sets of features\n",
    "data_df1 = data_df[data.feature_names[:5]]\n",
    "data_df2 = data_df[data.feature_names[5:10]]\n",
    "data_df3 = data_df[data.feature_names[10:17]]\n",
    "data_df4 = data_df[data.feature_names[17:30]]\n",
    "target_df = pd.DataFrame(data=data.target, columns=[\"target\"])"
   ]
  },
  {
   "cell_type": "code",
   "execution_count": 36,
   "metadata": {},
   "outputs": [],
   "source": [
    "# Creating timestamps for the data\n",
    "timestamps = pd.date_range(\n",
    "    end=pd.Timestamp.now(), \n",
    "    periods=len(data_df), \n",
    "    freq='D').to_frame(name=\"event_timestamp\", index=False)"
   ]
  },
  {
   "cell_type": "code",
   "execution_count": 37,
   "metadata": {},
   "outputs": [],
   "source": [
    "# Adding the timestamp column to each DataFrame\n",
    "data_df1 = pd.concat(objs=[data_df1, timestamps], axis=1)\n",
    "data_df2 = pd.concat(objs=[data_df2, timestamps], axis=1)\n",
    "data_df3 = pd.concat(objs=[data_df3, timestamps], axis=1)\n",
    "data_df4 = pd.concat(objs=[data_df4, timestamps], axis=1)\n",
    "target_df = pd.concat(objs=[target_df, timestamps], axis=1)"
   ]
  },
  {
   "cell_type": "code",
   "execution_count": 38,
   "metadata": {},
   "outputs": [],
   "source": [
    "# Creating a list of arbitrary IDs for feature rows\n",
    "patient_ids = pd.DataFrame(data=list(range(len(data_df))), columns=[\"patient_id\"])\n",
    "\n",
    "# Adding the timestamp column to each DataFrame\n",
    "data_df1 = pd.concat(objs=[data_df1, patient_ids], axis=1)\n",
    "data_df2 = pd.concat(objs=[data_df2, patient_ids], axis=1)\n",
    "data_df3 = pd.concat(objs=[data_df3, patient_ids], axis=1)\n",
    "data_df4 = pd.concat(objs=[data_df4, patient_ids], axis=1)\n",
    "target_df = pd.concat(objs=[target_df, patient_ids], axis=1)"
   ]
  },
  {
   "cell_type": "code",
   "execution_count": 39,
   "metadata": {},
   "outputs": [
    {
     "data": {
      "text/html": [
       "<div>\n",
       "<style scoped>\n",
       "    .dataframe tbody tr th:only-of-type {\n",
       "        vertical-align: middle;\n",
       "    }\n",
       "\n",
       "    .dataframe tbody tr th {\n",
       "        vertical-align: top;\n",
       "    }\n",
       "\n",
       "    .dataframe thead th {\n",
       "        text-align: right;\n",
       "    }\n",
       "</style>\n",
       "<table border=\"1\" class=\"dataframe\">\n",
       "  <thead>\n",
       "    <tr style=\"text-align: right;\">\n",
       "      <th></th>\n",
       "      <th>mean radius</th>\n",
       "      <th>mean texture</th>\n",
       "      <th>mean perimeter</th>\n",
       "      <th>mean area</th>\n",
       "      <th>mean smoothness</th>\n",
       "      <th>event_timestamp</th>\n",
       "      <th>patient_id</th>\n",
       "    </tr>\n",
       "  </thead>\n",
       "  <tbody>\n",
       "    <tr>\n",
       "      <th>0</th>\n",
       "      <td>17.99</td>\n",
       "      <td>10.38</td>\n",
       "      <td>122.80</td>\n",
       "      <td>1001.0</td>\n",
       "      <td>0.11840</td>\n",
       "      <td>2021-02-05 13:32:24.520821</td>\n",
       "      <td>0</td>\n",
       "    </tr>\n",
       "    <tr>\n",
       "      <th>1</th>\n",
       "      <td>20.57</td>\n",
       "      <td>17.77</td>\n",
       "      <td>132.90</td>\n",
       "      <td>1326.0</td>\n",
       "      <td>0.08474</td>\n",
       "      <td>2021-02-06 13:32:24.520821</td>\n",
       "      <td>1</td>\n",
       "    </tr>\n",
       "    <tr>\n",
       "      <th>2</th>\n",
       "      <td>19.69</td>\n",
       "      <td>21.25</td>\n",
       "      <td>130.00</td>\n",
       "      <td>1203.0</td>\n",
       "      <td>0.10960</td>\n",
       "      <td>2021-02-07 13:32:24.520821</td>\n",
       "      <td>2</td>\n",
       "    </tr>\n",
       "    <tr>\n",
       "      <th>3</th>\n",
       "      <td>11.42</td>\n",
       "      <td>20.38</td>\n",
       "      <td>77.58</td>\n",
       "      <td>386.1</td>\n",
       "      <td>0.14250</td>\n",
       "      <td>2021-02-08 13:32:24.520821</td>\n",
       "      <td>3</td>\n",
       "    </tr>\n",
       "    <tr>\n",
       "      <th>4</th>\n",
       "      <td>20.29</td>\n",
       "      <td>14.34</td>\n",
       "      <td>135.10</td>\n",
       "      <td>1297.0</td>\n",
       "      <td>0.10030</td>\n",
       "      <td>2021-02-09 13:32:24.520821</td>\n",
       "      <td>4</td>\n",
       "    </tr>\n",
       "  </tbody>\n",
       "</table>\n",
       "</div>"
      ],
      "text/plain": [
       "   mean radius  mean texture  mean perimeter  mean area  mean smoothness  \\\n",
       "0        17.99         10.38          122.80     1001.0          0.11840   \n",
       "1        20.57         17.77          132.90     1326.0          0.08474   \n",
       "2        19.69         21.25          130.00     1203.0          0.10960   \n",
       "3        11.42         20.38           77.58      386.1          0.14250   \n",
       "4        20.29         14.34          135.10     1297.0          0.10030   \n",
       "\n",
       "             event_timestamp  patient_id  \n",
       "0 2021-02-05 13:32:24.520821           0  \n",
       "1 2021-02-06 13:32:24.520821           1  \n",
       "2 2021-02-07 13:32:24.520821           2  \n",
       "3 2021-02-08 13:32:24.520821           3  \n",
       "4 2021-02-09 13:32:24.520821           4  "
      ]
     },
     "execution_count": 39,
     "metadata": {},
     "output_type": "execute_result"
    }
   ],
   "source": [
    "# Inspecting the feature DataFrames\n",
    "data_df1.head()"
   ]
  },
  {
   "cell_type": "code",
   "execution_count": 40,
   "metadata": {},
   "outputs": [],
   "source": [
    "# Writing our DataFrames to csv files\n",
    "\n",
    "Path(\"./data\").mkdir(parents=True, exist_ok=True)\n",
    "data_df1.to_csv('./data/data_df1.csv', index=False)\n",
    "data_df2.to_csv('./data/data_df2.csv', index=False)\n",
    "data_df3.to_csv('./data/data_df3.csv', index=False)\n",
    "data_df4.to_csv('./data/data_df4.csv', index=False)\n",
    "target_df.to_csv('./data/target_df.csv', index=False)"
   ]
  }
 ],
 "metadata": {
  "interpreter": {
   "hash": "596cc46b3c703a77ebf5090b5ce8a317a46791e1179fed43d56c2159067b3a28"
  },
  "kernelspec": {
   "display_name": "Python 3.8.10 ('feast-env': venv)",
   "language": "python",
   "name": "python3"
  },
  "language_info": {
   "codemirror_mode": {
    "name": "ipython",
    "version": 3
   },
   "file_extension": ".py",
   "mimetype": "text/x-python",
   "name": "python",
   "nbconvert_exporter": "python",
   "pygments_lexer": "ipython3",
   "version": "3.8.10"
  },
  "orig_nbformat": 4
 },
 "nbformat": 4,
 "nbformat_minor": 2
}
